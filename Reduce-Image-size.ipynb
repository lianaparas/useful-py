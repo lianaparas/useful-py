{
 "cells": [
  {
   "cell_type": "code",
   "execution_count": null,
   "metadata": {},
   "outputs": [],
   "source": [
    "#Reduce Image size"
   ]
  },
  {
   "cell_type": "code",
   "execution_count": 1,
   "metadata": {},
   "outputs": [
    {
     "name": "stdout",
     "output_type": "stream",
     "text": [
      "Collecting package metadata (current_repodata.json): done\n",
      "Solving environment: done\n",
      "\n",
      "# All requested packages already installed.\n",
      "\n"
     ]
    }
   ],
   "source": [
    "!conda install pillow"
   ]
  },
  {
   "cell_type": "code",
   "execution_count": 2,
   "metadata": {},
   "outputs": [],
   "source": [
    "from PIL import Image\n",
    "import os\n",
    "import PIL\n",
    "import glob"
   ]
  },
  {
   "cell_type": "code",
   "execution_count": 3,
   "metadata": {},
   "outputs": [],
   "source": [
    "#This will compress your image size to much smaller size but its resolution is quite poor\n",
    "\n",
    "fixed_height = 420\n",
    "image = Image.open('thisphoto.jpg')\n",
    "height_percent = (fixed_height / float(image.size[1]))\n",
    "width_size = int((float(image.size[0]) * float(height_percent)))\n",
    "image = image.resize((width_size, fixed_height), PIL.Image.NEAREST)\n",
    "image.save('resized_thisphoto.jpg')"
   ]
  },
  {
   "cell_type": "code",
   "execution_count": null,
   "metadata": {},
   "outputs": [],
   "source": []
  },
  {
   "cell_type": "code",
   "execution_count": 6,
   "metadata": {},
   "outputs": [
    {
     "name": "stdout",
     "output_type": "stream",
     "text": [
      "This is the current width and height of the image: (2414, 4096)\n"
     ]
    }
   ],
   "source": [
    "#This way will compress your image to about half the size while maintaining good resolution\n",
    "\n",
    "file_name = 'thisphoto.jpg'\n",
    "picture = Image.open('thisphoto.jpg')\n",
    "dim = picture.size\n",
    "print(f\"This is the current width and height of the image: {dim}\")"
   ]
  },
  {
   "cell_type": "code",
   "execution_count": 5,
   "metadata": {},
   "outputs": [],
   "source": [
    "#You can set the image quality from 0 - 100\n",
    "picture.save(\"Compressed_\"+file_name,optimize=True,quality=50)"
   ]
  },
  {
   "cell_type": "code",
   "execution_count": null,
   "metadata": {},
   "outputs": [],
   "source": []
  },
  {
   "cell_type": "code",
   "execution_count": 7,
   "metadata": {},
   "outputs": [],
   "source": [
    "#Function to compress multiple images in specific directory\n",
    "\n",
    "def compress_images(directory=False, quality=50):\n",
    "    if directory:\n",
    "        os.chdir(directory)\n",
    "\n",
    "    #Extract all .png and .jpeg files:\n",
    "    files = os.listdir()\n",
    "\n",
    "    #Extract all of the images:\n",
    "    images = [file for file in files if file.endswith(('jpg', 'png'))]\n",
    "\n",
    "    #Looping every image:\n",
    "    for image in images:\n",
    "        print(image)\n",
    "\n",
    "        #Open every image:\n",
    "        img = Image.open(image)\n",
    "\n",
    "        #Compress every image and save it with a new name:\n",
    "        img.save(\"using_func_\"+image, optimize=True, quality=quality)"
   ]
  },
  {
   "cell_type": "code",
   "execution_count": null,
   "metadata": {},
   "outputs": [],
   "source": []
  }
 ],
 "metadata": {
  "kernelspec": {
   "display_name": "Python 3",
   "language": "python",
   "name": "python3"
  },
  "language_info": {
   "codemirror_mode": {
    "name": "ipython",
    "version": 3
   },
   "file_extension": ".py",
   "mimetype": "text/x-python",
   "name": "python",
   "nbconvert_exporter": "python",
   "pygments_lexer": "ipython3",
   "version": "3.7.4"
  }
 },
 "nbformat": 4,
 "nbformat_minor": 2
}
